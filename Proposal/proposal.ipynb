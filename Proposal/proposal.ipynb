{
  "cells": [
    {
      "cell_type": "raw",
      "metadata": {},
      "source": [
        "---\n",
        "subtitle: The effect of low sampling frequency and bandwith on Recurrence Quantification Analysis for Ecological Mometary Assessment\n",
        "author: Maas van Steenbergen\n",
        "bibliography: bibliography.bib\n",
        "date: today\n",
        "format:\n",
        "  pdf: default\n",
        "---"
      ],
      "id": "77881086"
    },
    {
      "cell_type": "markdown",
      "metadata": {},
      "source": [
        "# Introduction\n",
        "Ecological momentary assessment has made it possible to construct time series on the basis of self-report scales, where one can map idiographic, within-person fluctuations of psychological constructs in a systematic manner [@connerExperienceSamplingMethods2009]. Data collected using these methods have been shown to display all markers of complex dynamics, which means that the future of the data generated using these methods is only predictable in the short-term, and that observations are dependent on the state of the system and its externalities at earlier timepoints [@olthofComplexityPsychologicalSelfratings2020]. Traditional statistical methods are often used to analyze the data that is generated using EMA, but these methods are not suitable to capture complex temporal patterns of psychological constructs within one person[@jenkinsAffectVariabilityPredictability2020].  \n",
        "\n",
        "Recurrence quantification analysis is an analysis technique that can be used to aid in understanding psychological dynamics. This method identifes recurrent patterns, or repetitions, in a time series [@webber2005recurrence]. The method results in several indicators that can be used to understand the stability, predictability, and  dynamical behavior of the construct. While these methods were developed under the assumption that measurements can be retrieved at great frequency and at high resolution, this is generally not the case for EMA. It relies on the admission of tests taken several times a day, meaning that the sampling frequency is limited [@haslbeckRecoveringWithinPersonDynamics2022].Moreover, the psychological constructs that are measured using EMA cannot be measured without relying on ordinal self-report questionnaires. Therefore, systematic study of the consequences of these limitations on RQA is needed. \n",
        "\n",
        "For the purposes of this project, we assume that the underlying psychological construct is a continuously changing dynamical value [@bokerConsequencesContinuityHunt2002], and that EMA output values are accurate ordinal, relatively low-t attempts to measure continuous underlying dynamical processes. This is an idealized assumption to study the consequences of low sampling frequency and data bandwith, and does not take into account possible challenges to ecological validity [@stinsonEcologicalMomentaryAssessment2022]. This is outside of the scope of this project .\n",
        "\n",
        "# The current project\n",
        "This project aims to find out at what point decreased data quality limits the ability of EMA to capture idiographic dynamics. We present an analysis pipeline consisting of multiple stages. We will use the `DynamicalSystems.jl` and `Statistics.jl` julia-packages to simulate the toy model and perform the analysis [@bezanson2017julia; @Datseris2018; @DatserisParlitz2022]. \n",
        "\n",
        "### Stage 1: Data generation\n",
        "In the first stage, we use a toy model developed to simulate the data based on a 3 + 1 dimensions model [@gauldDynamicalSystemsComputational2023]. This model captures clinical observations found in psychiatric symptomology by modeling internal factors ($y$), environmental noise ($z$), temporal specificities ($f$), and sympomatology ($x$). Symptomatology will be the outcome variable of these study. By changing all four of these coefficients systematically, we aim to model a large variety of  possible trajectories, and we save each one of these models as a separate time series. For the purpose of our study, we redefine \"symptomatology\" as any dynamical fluctuations of psychological constructs. It is important to note that this set of equations is not chosen to be exhaustive, but because it is one of the only systematic attempts to explicitly model the temporal fluctuations of psychological constructs.\n",
        "\n",
        "### Stage 2: Binning data and removing time points\n",
        "Now, we aim to systematically reduce the quality of the data. We bin a range of the width of the data into $n$ intervals of equal length, where $n$ stands for the number of bins. We also vary the minimum ($min$) and maximum ($max$) value of this range to simulate ceiling and floor-effects. Moreover, we remove time points from the data by keeping every $k$^th^ observation of the simulated data. We systematically decrease the value of $n$ and $min$ and increase the value of $k$ and $max$, storing any combination of these values.\n",
        "\n",
        "### Stage 3: Data analysis \n",
        "We will judge the sensitivity of the data by calculating summary statistics and recurrence indicators (recurrence rate, determinism, entropy of the distribution.) for each time series in each state of degradation. We judge the sensitivity of the data to degredation by looking at the change in values for each of the indicators, where the full dataset is used as the baseline. We will then map the changes in the indicators as the difference for that indicator between the baseline and at $n$, $min$, $max$, and $k$. \n",
        "\n",
        "## Ethical approval and proof of concept\n",
        "The project has been approved by the ethical committee [!not yet done]. \n",
        "\n",
        "# References\n",
        "::: {#refs}\n",
        ":::"
      ],
      "id": "bfa5d790"
    }
  ],
  "metadata": {
    "kernelspec": {
      "name": "julia-1.9",
      "language": "julia",
      "display_name": "Julia 1.9.3"
    }
  },
  "nbformat": 4,
  "nbformat_minor": 5
}